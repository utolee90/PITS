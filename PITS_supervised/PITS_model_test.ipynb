{
 "cells": [
  {
   "cell_type": "code",
   "execution_count": 3,
   "id": "4a1a4c5e-d935-4667-9346-925437eb8596",
   "metadata": {},
   "outputs": [],
   "source": [
    "import numpy as np\n",
    "import torch\n",
    "import torch.nn as nn\n"
   ]
  },
  {
   "cell_type": "code",
   "execution_count": 1,
   "id": "2cddc9d0-3639-481a-b050-1a321a870114",
   "metadata": {},
   "outputs": [
    {
     "name": "stdout",
     "output_type": "stream",
     "text": [
      "/home/yohan/anaconda3/envs/TSL/bin/python\n"
     ]
    }
   ],
   "source": [
    "import sys\n",
    "print(sys.executable)"
   ]
  },
  {
   "cell_type": "code",
   "execution_count": 7,
   "id": "0bee3d1e-75c8-478d-9ca8-df775d0f6d55",
   "metadata": {},
   "outputs": [],
   "source": [
    "from models import PITS\n",
    "from layers.PITS_backbone import PITS_backbone\n",
    "from layers.PITS_layers import *"
   ]
  },
  {
   "cell_type": "code",
   "execution_count": 8,
   "id": "c56bc036-c81d-4ffd-a4ee-7abe41c26a7f",
   "metadata": {},
   "outputs": [],
   "source": [
    "# Exchange_rate 입력 예시\n",
    "\n",
    "import pandas as pd\n",
    "\n",
    "exchange_rate_path = './dataset/exchange_rate.csv'\n",
    "\n",
    "df_exchange = pd.read_csv(exchange_rate_path)\n",
    "\n"
   ]
  },
  {
   "cell_type": "code",
   "execution_count": 10,
   "id": "ee37d8f3-bb38-477d-8e52-6427f289e6f1",
   "metadata": {},
   "outputs": [],
   "source": [
    "df_exchange = df_exchange.drop(columns=['date'])"
   ]
  },
  {
   "cell_type": "code",
   "execution_count": 11,
   "id": "b827b64e-7cdd-4e6c-bb9b-d4ae713802dd",
   "metadata": {
    "scrolled": true
   },
   "outputs": [
    {
     "data": {
      "text/html": [
       "<div>\n",
       "<style scoped>\n",
       "    .dataframe tbody tr th:only-of-type {\n",
       "        vertical-align: middle;\n",
       "    }\n",
       "\n",
       "    .dataframe tbody tr th {\n",
       "        vertical-align: top;\n",
       "    }\n",
       "\n",
       "    .dataframe thead th {\n",
       "        text-align: right;\n",
       "    }\n",
       "</style>\n",
       "<table border=\"1\" class=\"dataframe\">\n",
       "  <thead>\n",
       "    <tr style=\"text-align: right;\">\n",
       "      <th></th>\n",
       "      <th>0</th>\n",
       "      <th>1</th>\n",
       "      <th>2</th>\n",
       "      <th>3</th>\n",
       "      <th>4</th>\n",
       "      <th>5</th>\n",
       "      <th>6</th>\n",
       "      <th>OT</th>\n",
       "    </tr>\n",
       "  </thead>\n",
       "  <tbody>\n",
       "    <tr>\n",
       "      <th>0</th>\n",
       "      <td>0.785500</td>\n",
       "      <td>1.611000</td>\n",
       "      <td>0.861698</td>\n",
       "      <td>0.634196</td>\n",
       "      <td>0.211242</td>\n",
       "      <td>0.006838</td>\n",
       "      <td>0.525486</td>\n",
       "      <td>0.593000</td>\n",
       "    </tr>\n",
       "    <tr>\n",
       "      <th>1</th>\n",
       "      <td>0.781800</td>\n",
       "      <td>1.610000</td>\n",
       "      <td>0.861104</td>\n",
       "      <td>0.633513</td>\n",
       "      <td>0.211242</td>\n",
       "      <td>0.006863</td>\n",
       "      <td>0.523972</td>\n",
       "      <td>0.594000</td>\n",
       "    </tr>\n",
       "    <tr>\n",
       "      <th>2</th>\n",
       "      <td>0.786700</td>\n",
       "      <td>1.629300</td>\n",
       "      <td>0.861030</td>\n",
       "      <td>0.648508</td>\n",
       "      <td>0.211242</td>\n",
       "      <td>0.006975</td>\n",
       "      <td>0.526316</td>\n",
       "      <td>0.597300</td>\n",
       "    </tr>\n",
       "    <tr>\n",
       "      <th>3</th>\n",
       "      <td>0.786000</td>\n",
       "      <td>1.637000</td>\n",
       "      <td>0.862069</td>\n",
       "      <td>0.650618</td>\n",
       "      <td>0.211242</td>\n",
       "      <td>0.006953</td>\n",
       "      <td>0.523834</td>\n",
       "      <td>0.597000</td>\n",
       "    </tr>\n",
       "    <tr>\n",
       "      <th>4</th>\n",
       "      <td>0.784900</td>\n",
       "      <td>1.653000</td>\n",
       "      <td>0.861995</td>\n",
       "      <td>0.656254</td>\n",
       "      <td>0.211242</td>\n",
       "      <td>0.006940</td>\n",
       "      <td>0.527426</td>\n",
       "      <td>0.598500</td>\n",
       "    </tr>\n",
       "    <tr>\n",
       "      <th>...</th>\n",
       "      <td>...</td>\n",
       "      <td>...</td>\n",
       "      <td>...</td>\n",
       "      <td>...</td>\n",
       "      <td>...</td>\n",
       "      <td>...</td>\n",
       "      <td>...</td>\n",
       "      <td>...</td>\n",
       "    </tr>\n",
       "    <tr>\n",
       "      <th>7583</th>\n",
       "      <td>0.718494</td>\n",
       "      <td>1.222195</td>\n",
       "      <td>0.737485</td>\n",
       "      <td>0.969974</td>\n",
       "      <td>0.143697</td>\n",
       "      <td>0.008500</td>\n",
       "      <td>0.688565</td>\n",
       "      <td>0.690846</td>\n",
       "    </tr>\n",
       "    <tr>\n",
       "      <th>7584</th>\n",
       "      <td>0.721839</td>\n",
       "      <td>1.223459</td>\n",
       "      <td>0.741155</td>\n",
       "      <td>0.977297</td>\n",
       "      <td>0.143763</td>\n",
       "      <td>0.008595</td>\n",
       "      <td>0.690288</td>\n",
       "      <td>0.695701</td>\n",
       "    </tr>\n",
       "    <tr>\n",
       "      <th>7585</th>\n",
       "      <td>0.723197</td>\n",
       "      <td>1.234111</td>\n",
       "      <td>0.745184</td>\n",
       "      <td>0.984446</td>\n",
       "      <td>0.143997</td>\n",
       "      <td>0.008562</td>\n",
       "      <td>0.691419</td>\n",
       "      <td>0.695943</td>\n",
       "    </tr>\n",
       "    <tr>\n",
       "      <th>7586</th>\n",
       "      <td>0.720825</td>\n",
       "      <td>1.233905</td>\n",
       "      <td>0.744131</td>\n",
       "      <td>0.980344</td>\n",
       "      <td>0.143993</td>\n",
       "      <td>0.008555</td>\n",
       "      <td>0.690942</td>\n",
       "      <td>0.692689</td>\n",
       "    </tr>\n",
       "    <tr>\n",
       "      <th>7587</th>\n",
       "      <td>0.720825</td>\n",
       "      <td>1.233905</td>\n",
       "      <td>0.744131</td>\n",
       "      <td>0.980344</td>\n",
       "      <td>0.143993</td>\n",
       "      <td>0.008555</td>\n",
       "      <td>0.690942</td>\n",
       "      <td>0.692689</td>\n",
       "    </tr>\n",
       "  </tbody>\n",
       "</table>\n",
       "<p>7588 rows × 8 columns</p>\n",
       "</div>"
      ],
      "text/plain": [
       "             0         1         2         3         4         5         6  \\\n",
       "0     0.785500  1.611000  0.861698  0.634196  0.211242  0.006838  0.525486   \n",
       "1     0.781800  1.610000  0.861104  0.633513  0.211242  0.006863  0.523972   \n",
       "2     0.786700  1.629300  0.861030  0.648508  0.211242  0.006975  0.526316   \n",
       "3     0.786000  1.637000  0.862069  0.650618  0.211242  0.006953  0.523834   \n",
       "4     0.784900  1.653000  0.861995  0.656254  0.211242  0.006940  0.527426   \n",
       "...        ...       ...       ...       ...       ...       ...       ...   \n",
       "7583  0.718494  1.222195  0.737485  0.969974  0.143697  0.008500  0.688565   \n",
       "7584  0.721839  1.223459  0.741155  0.977297  0.143763  0.008595  0.690288   \n",
       "7585  0.723197  1.234111  0.745184  0.984446  0.143997  0.008562  0.691419   \n",
       "7586  0.720825  1.233905  0.744131  0.980344  0.143993  0.008555  0.690942   \n",
       "7587  0.720825  1.233905  0.744131  0.980344  0.143993  0.008555  0.690942   \n",
       "\n",
       "            OT  \n",
       "0     0.593000  \n",
       "1     0.594000  \n",
       "2     0.597300  \n",
       "3     0.597000  \n",
       "4     0.598500  \n",
       "...        ...  \n",
       "7583  0.690846  \n",
       "7584  0.695701  \n",
       "7585  0.695943  \n",
       "7586  0.692689  \n",
       "7587  0.692689  \n",
       "\n",
       "[7588 rows x 8 columns]"
      ]
     },
     "execution_count": 11,
     "metadata": {},
     "output_type": "execute_result"
    }
   ],
   "source": [
    "df_exchange"
   ]
  },
  {
   "cell_type": "code",
   "execution_count": 12,
   "id": "49194c70-a226-4769-a3ff-85ea5f1ac26a",
   "metadata": {},
   "outputs": [],
   "source": [
    "df_exchange_3d = []\n",
    "for j in range(int(len(df_exchange)*0.7)):\n",
    "    df_exchange_3d.append(df_exchange.iloc[j:j+96])"
   ]
  },
  {
   "cell_type": "code",
   "execution_count": 25,
   "id": "b4060df7-6c8d-47ad-af4a-0420de658fb2",
   "metadata": {},
   "outputs": [],
   "source": [
    "# normalize\n",
    "from sklearn.preprocessing import StandardScaler\n"
   ]
  },
  {
   "cell_type": "code",
   "execution_count": 14,
   "id": "e166e002-1575-43eb-83f7-c4303980c496",
   "metadata": {},
   "outputs": [],
   "source": [
    "df_exchange_3d = torch.Tensor(np.array(df_exchange_3d))"
   ]
  },
  {
   "cell_type": "code",
   "execution_count": 16,
   "id": "3edd2608-fd6f-409c-a0cd-fa8a371d366b",
   "metadata": {},
   "outputs": [
    {
     "data": {
      "text/plain": [
       "torch.Size([5311, 96, 8])"
      ]
     },
     "execution_count": 16,
     "metadata": {},
     "output_type": "execute_result"
    }
   ],
   "source": [
    "df_exchange_3d.shape"
   ]
  },
  {
   "cell_type": "code",
   "execution_count": 17,
   "id": "95fd0971-4614-441f-ba00-08a27bb31d97",
   "metadata": {},
   "outputs": [],
   "source": [
    "# PITS_backbone 정의\n",
    "# c_in, context_window, traget_window, patch_len, stride, d_model\n",
    "pits_backbone_sample = PITS_backbone(8, 96, 96, 16, 8, 128)"
   ]
  },
  {
   "cell_type": "code",
   "execution_count": 18,
   "id": "4a920ab4-bd57-4cca-adfb-22eb9eefa230",
   "metadata": {},
   "outputs": [
    {
     "data": {
      "text/plain": [
       "PITS_backbone(\n",
       "  (revin_layer): RevIN()\n",
       "  (backbone): FC2Encoder(\n",
       "    (act): ReLU(inplace=True)\n",
       "    (W_P1): Linear(in_features=16, out_features=128, bias=True)\n",
       "    (W_P2): Linear(in_features=128, out_features=128, bias=True)\n",
       "  )\n",
       "  (head): Flatten_Head(\n",
       "    (flatten): Flatten(start_dim=-2, end_dim=-1)\n",
       "    (linear): Linear(in_features=1408, out_features=96, bias=True)\n",
       "    (dropout): Dropout(p=0, inplace=False)\n",
       "  )\n",
       ")"
      ]
     },
     "execution_count": 18,
     "metadata": {},
     "output_type": "execute_result"
    }
   ],
   "source": [
    "pits_backbone_sample.train()"
   ]
  },
  {
   "cell_type": "code",
   "execution_count": 20,
   "id": "73688727-b306-46b5-83da-d1008e382e82",
   "metadata": {},
   "outputs": [],
   "source": [
    "output = pits_backbone_sample(df_exchange_3d[:16].permute(0,2,1))"
   ]
  },
  {
   "cell_type": "code",
   "execution_count": 22,
   "id": "52b98690-8419-4ea5-abd2-db54b3c4b3a4",
   "metadata": {
    "scrolled": true
   },
   "outputs": [
    {
     "data": {
      "text/plain": [
       "torch.Size([16, 8, 96])"
      ]
     },
     "execution_count": 22,
     "metadata": {},
     "output_type": "execute_result"
    }
   ],
   "source": [
    "output.shape"
   ]
  },
  {
   "cell_type": "code",
   "execution_count": 24,
   "id": "2006e71c-8c69-4d30-b7bd-200298a1045a",
   "metadata": {
    "scrolled": true
   },
   "outputs": [
    {
     "data": {
      "image/png": "[encoded data removed]",
      "text/plain": [
       "<Figure size 1200x1000 with 1 Axes>"
      ]
     },
     "metadata": {},
     "output_type": "display_data"
    }
   ],
   "source": [
    "import matplotlib.pyplot as plt\n",
    "\n",
    "\n",
    "plt.figure(figsize=(12,10))\n",
    "for t in range(8):\n",
    "    y = df_exchange_3d[0, :, t]\n",
    "    plt.plot(range(96), y)\n",
    "\n",
    "plt.show()"
   ]
  },
  {
   "cell_type": "code",
   "execution_count": 27,
   "id": "7927cda5-265d-4095-be0a-9a4f98ebad12",
   "metadata": {},
   "outputs": [],
   "source": [
    "patch_0 = df_exchange_3d[:16].permute(0,2,1)\n",
    "\n",
    "patch_00 = patch_0.unfold(dimension=-1, size=16, step=8)"
   ]
  },
  {
   "cell_type": "code",
   "execution_count": 28,
   "id": "b17f129a-de99-49d3-b9ae-b4089be08203",
   "metadata": {
    "scrolled": true
   },
   "outputs": [
    {
     "data": {
      "text/plain": [
       "torch.Size([16, 8, 11, 16])"
      ]
     },
     "execution_count": 28,
     "metadata": {},
     "output_type": "execute_result"
    }
   ],
   "source": [
    "patch_00.shape"
   ]
  },
  {
   "cell_type": "code",
   "execution_count": 29,
   "id": "678f308f-3e40-4af1-a56b-f9ab36ca1cd7",
   "metadata": {},
   "outputs": [
    {
     "data": {
      "text/plain": [
       "torch.Size([16, 8, 16, 11])"
      ]
     },
     "execution_count": 29,
     "metadata": {},
     "output_type": "execute_result"
    }
   ],
   "source": [
    "patch_00 = patch_00.permute(0,3,1,2) # [16, 16, 8, 11]\n",
    "\n",
    "patch_00 = patch_00.transpose(1,2) # [16, 8, 16, 11]\n",
    "\n",
    "print(patch_00.shape)\n"
   ]
  },
  {
   "cell_type": "code",
   "execution_count": 30,
   "id": "050f3b08-5f65-43bc-9c85-830af39ccb73",
   "metadata": {},
   "outputs": [
    {
     "data": {
      "text/plain": [
       "torch.Size([16, 8, 11, 16])"
      ]
     },
     "execution_count": 30,
     "metadata": {},
     "output_type": "execute_result"
    }
   ],
   "source": [
    "patch_00 = patch_00.permute(0,1,3,2)\n",
    "patch_00.shape"
   ]
  },
  {
   "cell_type": "code",
   "execution_count": 31,
   "id": "c0a75a60-07ee-48c7-ba50-a5f67244c5e2",
   "metadata": {},
   "outputs": [],
   "source": [
    "#flatten test\n",
    "\n",
    "list_sample = [[1,2,3], [4,5,6]]\n",
    "torch_sample = torch.Tensor(list_sample)\n",
    "flatten_func = nn.Flatten(start_dim=-2)\n",
    "print(flatten_func(torch_sample))"
   ]
  },
  {
   "cell_type": "code",
   "execution_count": null,
   "id": "6b161607-b821-4429-a354-daa93e48f9b3",
   "metadata": {},
   "outputs": [],
   "source": []
  }
 ],
 "metadata": {
  "kernelspec": {
   "display_name": "Python 3 (ipykernel)",
   "language": "python",
   "name": "python3"
  },
  "language_info": {
   "codemirror_mode": {
    "name": "ipython",
    "version": 3
   },
   "file_extension": ".py",
   "mimetype": "text/x-python",
   "name": "python",
   "nbconvert_exporter": "python",
   "pygments_lexer": "ipython3",
   "version": "3.8.11"
  }
 },
 "nbformat": 4,
 "nbformat_minor": 5
}
